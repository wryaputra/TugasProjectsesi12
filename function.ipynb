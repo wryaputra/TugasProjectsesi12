{
 "cells": [
  {
   "cell_type": "code",
   "execution_count": 1,
   "id": "a61545ac-c1c0-4098-94f4-78a65fe7ce42",
   "metadata": {},
   "outputs": [],
   "source": [
    "def aritmetik():\n",
    "    num1 = int(input(\"Masukan angka pertama: \"))\n",
    "    num2 = int(input(\"Masukan angka kedua: \"))\n",
    "    print(\"\"\"\n",
    "    Pilih Metode:\n",
    "    1. Penjumlahan\n",
    "    2. Perkalian\n",
    "    3. Perpangkatan\n",
    "    \"\"\")\n",
    "    choice = int(input(\"(1/2/3): \"))\n",
    "    if choice == 1:\n",
    "        r1 = math.add(num1,num2)\n",
    "        print(r1)\n",
    "    elif choice == 2:\n",
    "        r2 = math.multiply(num1,num2)\n",
    "        print(r2)\n",
    "    elif choice == 3:\n",
    "        r3 = math.pow(num1,num2)\n",
    "        print(r3)\n",
    "    else:\n",
    "        print(\"Input tidak valid!\")"
   ]
  },
  {
   "cell_type": "code",
   "execution_count": 2,
   "id": "d9f533cb-5e78-403c-bf47-45185dc6ba3b",
   "metadata": {},
   "outputs": [],
   "source": [
    "def conv():\n",
    "    print(\"\"\"\n",
    "    Pilih Metode:\n",
    "    1. M to CM\n",
    "    2. CM to M\n",
    "    \"\"\")\n",
    "    choice = int(input(\"(1/2): \"))\n",
    "    if choice == 1:\n",
    "        meter = int(input(\"Masukan nilai meter: \"))\n",
    "        r1 = convert.meterToCm(meter)\n",
    "        print(f\"Panjang dalam cm: {r1}\")\n",
    "    elif choice == 2:\n",
    "        cm = int(input(\"Masukan nilai cm: \"))\n",
    "        r2 = convert.cmToMeter(cm)\n",
    "        print(f\"Panjang dalam meter: {r2}\")\n",
    "    else:\n",
    "        print(\"Input tidak valid!\")"
   ]
  },
  {
   "cell_type": "code",
   "execution_count": 3,
   "id": "01a11af8-3145-49f7-9b92-6f3eb246c4b0",
   "metadata": {},
   "outputs": [],
   "source": [
    "def change():\n",
    "    decim = int(input(\"Masukan Bilangan Desimal: \"))\n",
    "    print(\"\"\"\n",
    "    Pilih Metode:\n",
    "    1. Decimal to Biner\n",
    "    2. Decimal to Octal\n",
    "    3. Decimal to Hexa\n",
    "    \"\"\")\n",
    "    choice = int(input(\"(1/2/3): \"))\n",
    "    if choice == 1:\n",
    "        r1 = ceng.binary(decim)\n",
    "        print(f\"Desimal ke biner adalah: {r1}\")\n",
    "    elif choice == 2:\n",
    "        r1 = ceng.octal(decim)\n",
    "        print(f\"Desimal ke octal adalah: {r1}\")\n",
    "    elif choice == 3:\n",
    "        r1 = ceng.hexa(decim)\n",
    "        print(f\"Desimal ke hexa adalah: {r1}\")\n",
    "    else:\n",
    "        print(\"Input tidak valid!\")"
   ]
  },
  {
   "cell_type": "code",
   "execution_count": 4,
   "id": "22f5e79a-d962-4e4e-b1e9-8d1db509cdae",
   "metadata": {},
   "outputs": [
    {
     "name": "stdout",
     "output_type": "stream",
     "text": [
      "\n",
      "\n",
      "    Pilih Kegiatan:\n",
      "        1. Aritmatika\n",
      "        2. Konversi\n",
      "        3. Ubah Bilangan\n",
      "        4. Exit\n",
      "    \n"
     ]
    },
    {
     "name": "stdin",
     "output_type": "stream",
     "text": [
      "Masukan input (1/2/3/4):\n",
      " 3\n",
      "Masukan Bilangan Desimal:  2\n"
     ]
    },
    {
     "name": "stdout",
     "output_type": "stream",
     "text": [
      "\n",
      "    Pilih Metode:\n",
      "    1. Decimal to Biner\n",
      "    2. Decimal to Octal\n",
      "    3. Decimal to Hexa\n",
      "    \n"
     ]
    },
    {
     "name": "stdin",
     "output_type": "stream",
     "text": [
      "(1/2/3):  1\n"
     ]
    },
    {
     "name": "stdout",
     "output_type": "stream",
     "text": [
      "Desimal ke biner adalah: 0b10\n",
      "\n",
      "\n",
      "    Pilih Kegiatan:\n",
      "        1. Aritmatika\n",
      "        2. Konversi\n",
      "        3. Ubah Bilangan\n",
      "        4. Exit\n",
      "    \n"
     ]
    },
    {
     "name": "stdin",
     "output_type": "stream",
     "text": [
      "Masukan input (1/2/3/4):\n",
      " 3\n",
      "Masukan Bilangan Desimal:  2\n"
     ]
    },
    {
     "name": "stdout",
     "output_type": "stream",
     "text": [
      "\n",
      "    Pilih Metode:\n",
      "    1. Decimal to Biner\n",
      "    2. Decimal to Octal\n",
      "    3. Decimal to Hexa\n",
      "    \n"
     ]
    },
    {
     "name": "stdin",
     "output_type": "stream",
     "text": [
      "(1/2/3):  2\n"
     ]
    },
    {
     "name": "stdout",
     "output_type": "stream",
     "text": [
      "Desimal ke octal adalah: 0o2\n",
      "\n",
      "\n",
      "    Pilih Kegiatan:\n",
      "        1. Aritmatika\n",
      "        2. Konversi\n",
      "        3. Ubah Bilangan\n",
      "        4. Exit\n",
      "    \n"
     ]
    },
    {
     "name": "stdin",
     "output_type": "stream",
     "text": [
      "Masukan input (1/2/3/4):\n",
      " 3\n",
      "Masukan Bilangan Desimal:  2\n"
     ]
    },
    {
     "name": "stdout",
     "output_type": "stream",
     "text": [
      "\n",
      "    Pilih Metode:\n",
      "    1. Decimal to Biner\n",
      "    2. Decimal to Octal\n",
      "    3. Decimal to Hexa\n",
      "    \n"
     ]
    },
    {
     "name": "stdin",
     "output_type": "stream",
     "text": [
      "(1/2/3):  3\n"
     ]
    },
    {
     "name": "stdout",
     "output_type": "stream",
     "text": [
      "Desimal ke hexa adalah: 0x2\n",
      "\n",
      "\n",
      "    Pilih Kegiatan:\n",
      "        1. Aritmatika\n",
      "        2. Konversi\n",
      "        3. Ubah Bilangan\n",
      "        4. Exit\n",
      "    \n"
     ]
    },
    {
     "name": "stdin",
     "output_type": "stream",
     "text": [
      "Masukan input (1/2/3/4):\n",
      " 2\n"
     ]
    },
    {
     "name": "stdout",
     "output_type": "stream",
     "text": [
      "\n",
      "    Pilih Metode:\n",
      "    1. M to CM\n",
      "    2. CM to M\n",
      "    \n"
     ]
    },
    {
     "name": "stdin",
     "output_type": "stream",
     "text": [
      "(1/2):  1\n",
      "Masukan nilai meter:  5000\n"
     ]
    },
    {
     "name": "stdout",
     "output_type": "stream",
     "text": [
      "Panjang dalam cm: 500000\n",
      "\n",
      "\n",
      "    Pilih Kegiatan:\n",
      "        1. Aritmatika\n",
      "        2. Konversi\n",
      "        3. Ubah Bilangan\n",
      "        4. Exit\n",
      "    \n"
     ]
    },
    {
     "name": "stdin",
     "output_type": "stream",
     "text": [
      "Masukan input (1/2/3/4):\n",
      " 2\n"
     ]
    },
    {
     "name": "stdout",
     "output_type": "stream",
     "text": [
      "\n",
      "    Pilih Metode:\n",
      "    1. M to CM\n",
      "    2. CM to M\n",
      "    \n"
     ]
    },
    {
     "name": "stdin",
     "output_type": "stream",
     "text": [
      "(1/2):  2\n",
      "Masukan nilai cm:  5000\n"
     ]
    },
    {
     "name": "stdout",
     "output_type": "stream",
     "text": [
      "Panjang dalam meter: 50.0\n",
      "\n",
      "\n",
      "    Pilih Kegiatan:\n",
      "        1. Aritmatika\n",
      "        2. Konversi\n",
      "        3. Ubah Bilangan\n",
      "        4. Exit\n",
      "    \n"
     ]
    },
    {
     "name": "stdin",
     "output_type": "stream",
     "text": [
      "Masukan input (1/2/3/4):\n",
      " 1\n",
      "Masukan angka pertama:  1\n",
      "Masukan angka kedua:  1\n"
     ]
    },
    {
     "name": "stdout",
     "output_type": "stream",
     "text": [
      "\n",
      "    Pilih Metode:\n",
      "    1. Penjumlahan\n",
      "    2. Perkalian\n",
      "    3. Perpangkatan\n",
      "    \n"
     ]
    },
    {
     "name": "stdin",
     "output_type": "stream",
     "text": [
      "(1/2/3):  1\n"
     ]
    },
    {
     "name": "stdout",
     "output_type": "stream",
     "text": [
      "2\n",
      "\n",
      "\n",
      "    Pilih Kegiatan:\n",
      "        1. Aritmatika\n",
      "        2. Konversi\n",
      "        3. Ubah Bilangan\n",
      "        4. Exit\n",
      "    \n"
     ]
    },
    {
     "name": "stdin",
     "output_type": "stream",
     "text": [
      "Masukan input (1/2/3/4):\n",
      " 1\n",
      "Masukan angka pertama:  1\n",
      "Masukan angka kedua:  1\n"
     ]
    },
    {
     "name": "stdout",
     "output_type": "stream",
     "text": [
      "\n",
      "    Pilih Metode:\n",
      "    1. Penjumlahan\n",
      "    2. Perkalian\n",
      "    3. Perpangkatan\n",
      "    \n"
     ]
    },
    {
     "name": "stdin",
     "output_type": "stream",
     "text": [
      "(1/2/3):  2\n"
     ]
    },
    {
     "name": "stdout",
     "output_type": "stream",
     "text": [
      "1\n",
      "\n",
      "\n",
      "    Pilih Kegiatan:\n",
      "        1. Aritmatika\n",
      "        2. Konversi\n",
      "        3. Ubah Bilangan\n",
      "        4. Exit\n",
      "    \n"
     ]
    },
    {
     "name": "stdin",
     "output_type": "stream",
     "text": [
      "Masukan input (1/2/3/4):\n",
      " 1\n",
      "Masukan angka pertama:  1\n",
      "Masukan angka kedua:  1\n"
     ]
    },
    {
     "name": "stdout",
     "output_type": "stream",
     "text": [
      "\n",
      "    Pilih Metode:\n",
      "    1. Penjumlahan\n",
      "    2. Perkalian\n",
      "    3. Perpangkatan\n",
      "    \n"
     ]
    },
    {
     "name": "stdin",
     "output_type": "stream",
     "text": [
      "(1/2/3):  3\n"
     ]
    },
    {
     "name": "stdout",
     "output_type": "stream",
     "text": [
      "1\n",
      "\n",
      "\n",
      "    Pilih Kegiatan:\n",
      "        1. Aritmatika\n",
      "        2. Konversi\n",
      "        3. Ubah Bilangan\n",
      "        4. Exit\n",
      "    \n"
     ]
    },
    {
     "name": "stdin",
     "output_type": "stream",
     "text": [
      "Masukan input (1/2/3/4):\n",
      " 4\n"
     ]
    },
    {
     "name": "stdout",
     "output_type": "stream",
     "text": [
      "Terimakasih sudah menggunakan menu!\n"
     ]
    }
   ],
   "source": [
    "import aritmatika.math as math\n",
    "import konversi.convert as convert\n",
    "import ubah.change as ceng\n",
    "\n",
    "while True:\n",
    "    print(\"\"\"\n",
    "    \n",
    "    Pilih Kegiatan:\n",
    "        1. Aritmatika\n",
    "        2. Konversi\n",
    "        3. Ubah Bilangan\n",
    "        4. Exit\n",
    "    \"\"\")\n",
    "    choice = int(input(\"Masukan input (1/2/3/4):\\n\"))\n",
    "    if choice == 1:\n",
    "        aritmetik()\n",
    "    elif choice == 2:\n",
    "        conv()\n",
    "    elif choice == 3:\n",
    "        change()\n",
    "    elif choice == 4:\n",
    "        print(\"Terimakasih sudah menggunakan menu!\")\n",
    "        break\n",
    "    else:\n",
    "        print(\"Input tidak valid!\")"
   ]
  }
 ],
 "metadata": {
  "kernelspec": {
   "display_name": "Python 3 (ipykernel)",
   "language": "python",
   "name": "python3"
  },
  "language_info": {
   "codemirror_mode": {
    "name": "ipython",
    "version": 3
   },
   "file_extension": ".py",
   "mimetype": "text/x-python",
   "name": "python",
   "nbconvert_exporter": "python",
   "pygments_lexer": "ipython3",
   "version": "3.11.11"
  }
 },
 "nbformat": 4,
 "nbformat_minor": 5
}
